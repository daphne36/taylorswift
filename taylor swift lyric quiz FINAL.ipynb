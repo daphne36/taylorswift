{
 "cells": [
  {
   "cell_type": "code",
   "execution_count": null,
   "id": "eff62636-8115-4d80-9518-0c8889902a52",
   "metadata": {
    "scrolled": true
   },
   "outputs": [
    {
     "name": "stdout",
     "output_type": "stream",
     "text": [
      "Welcome! The first lyric of a Taylor Swift song will come up. Enter the Song Title to gain a point.\n",
      "\n",
      "First Lyric: 'Flamingo pink, Sunrise Boulevard'\n"
     ]
    }
   ],
   "source": [
    "import random \n",
    "\n",
    "songs = [\n",
    "    {\"title\": \"Love Story\", \"first_lyric\": \"'We were both young when I first saw you'\"},\n",
    "    {\"title\": \"You Are In Love\", \"first_lyric\": \"'One look, dark room, meant just for you'\"},\n",
    "    {\"title\": \"willow\", \"first_lyric\": \"'I'm like the water when your ship rolled in that night'\"},\n",
    "    {\"title\": \"Speak Now\", \"first_lyric\": \"'I am not the kind of girl who should be rudely barging in on a white veil occasion'\"},\n",
    "    {\"title\": \"State of Grace\", \"first_lyric\": \"'I'm walking fast through the traffic lights'\"},\n",
    "    {\"title\": \"Picture to Burn\", \"first_lyric\": \"'State the obvious, I didn't get my perfect fantasy'\"},\n",
    "    {\"title\": \"Mr Perfectly Fine\", \"first_lyric\": \"'Mr. Perfect face, Mr. Here to stay'\"},\n",
    "    {\"title\": \"Slut!\", \"first_lyric\": \"'Flamingo pink, Sunrise Boulevard'\"},\n",
    "    {\"title\": \"Shake it Off\", \"first_lyric\": \"'I stay out too late, Got nothing in my brain'\"},\n",
    "    {\"title\": \"Gold Rush\", \"first_lyric\": \"'Gleaming, Twinkling, Eyes like sinking ships, On waters so inviting'\"},\n",
    "    {\"title\": \"Anti-Hero\", \"first_lyric\": \"'I have this thing where I get older but just never wiser'\"},\n",
    "]\n",
    "\n",
    "\n",
    "def taylor_lyric_quiz(): \n",
    "    print (\"Welcome! The first lyric of a Taylor Swift song will come up. Enter the Song Title to gain a point.\")\n",
    "    print ()\n",
    "    score = 0\n",
    "    random.shuffle(songs)\n",
    "\n",
    "    for song in songs: \n",
    "        print (f\"First Lyric: {song['first_lyric']}\")\n",
    "        guess = input(\"Guess the Song:\").strip() \n",
    "    \n",
    "        if guess.lower() == song['title'].lower():\n",
    "            print (\"Correct Answer, Swiftie\")\n",
    "            score += 1\n",
    "            print()\n",
    "        else:\n",
    "            print (\"Incorrect Answer\") \n",
    "            print ()\n",
    "\n",
    "    print (f\"Quiz Over! Your final score is: {score} out of {len(songs)}\")\n",
    "    \n",
    "taylor_lyric_quiz() \n",
    "\n",
    "\n",
    "\n",
    "\n",
    "\n"
   ]
  }
 ],
 "metadata": {
  "kernelspec": {
   "display_name": "Python 3 (ipykernel)",
   "language": "python",
   "name": "python3"
  },
  "language_info": {
   "codemirror_mode": {
    "name": "ipython",
    "version": 3
   },
   "file_extension": ".py",
   "mimetype": "text/x-python",
   "name": "python",
   "nbconvert_exporter": "python",
   "pygments_lexer": "ipython3",
   "version": "3.11.7"
  }
 },
 "nbformat": 4,
 "nbformat_minor": 5
}
